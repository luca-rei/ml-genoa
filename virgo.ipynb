{
 "cells": [
  {
   "cell_type": "markdown",
   "id": "964a383e",
   "metadata": {},
   "source": [
    "<img src=\"virgo_logo.png\" alt=\"Title\" style=\"width:300px;\"/>\n",
    "\n",
    "# Virgo Gravitational Wave Data Exercise\n",
    "\n",
    "The aim of the exercise is to prepare a ML tool which is able to compress and clean as much as possible a dataset.\n",
    "\n",
    "**The autoencoder coded in this exercise is only used as an opportunity to acquire some insight into ML** \n",
    "\n",
    "In this exercise you will:\n",
    "\n",
    "- explore the content of a dataset from the **International Gravitational-Wave Observatory Network** containing the strain as a function of time;\n",
    "- try to plot quantities and understand which features could help in separating signal from noise;\n",
    "- train a network in order to perform the job, and test their abilities.\n"
   ]
  },
  {
   "cell_type": "markdown",
   "id": "7e0db6a2",
   "metadata": {},
   "source": [
    "## Gravitational Wave Data\n",
    "\n",
    "For an introduction on what GW and interferometers are please refer to https://confluence.infn.it/display/MLINFN/7.+Virgo+Autoencoder+tutorial\n",
    "\n",
    "For a brief vocabulary see https://labcit.ligo.caltech.edu/~ll_news/0607a_news/LIGO_Vocabulary.htm\n",
    "\n",
    "**IGWN** stands for International Gravitational-Wave Observatory Network, it is a comunity made by three collaborations: LIGO VIRGO and KAGRA \n",
    "\n",
    "**Strain** is the instrument’s ability to detect a space change within an arm in comparison to the total space (length) of the arm\n",
    "\n",
    "**GWF** stands for Gravitational Wave File and is the format IGWN used to store (not only!) interferometer strain\n",
    "\n",
    "All data we will use in this tutorial is freely accessibile and published by **GWOSC** (https://www.gw-openscience.org/about/). GWOSC, The Gravitational Wave Open Science Center, provides data from gravitational-wave observatories, along with tutorials and software tools. You could find there many information if you are interested"
   ]
  },
  {
   "cell_type": "markdown",
   "id": "172c45c5",
   "metadata": {},
   "source": [
    "## Data Access\n",
    "\n",
    "To ease the reading and decoding of the data file we will rely on a python package named `gwdama` that needs to be imported (and installed because not available by default on the system)\n",
    "\n",
    "*gwdama* (https://pypi.org/project/gwdama/) aims at providing a unified and easy to use interface to access Gravitational Wave (GW) data and output some well organised datasets, ready to be used for Machine Learning projects or Data Analysis purposes (source properties, noise studies, etc.)"
   ]
  },
  {
   "cell_type": "code",
   "execution_count": 1,
   "id": "equipped-boards",
   "metadata": {},
   "outputs": [
    {
     "name": "stdout",
     "output_type": "stream",
     "text": [
      "/usr/lib/python3/dist-packages/secretstorage/dhcrypto.py:15: CryptographyDeprecationWarning: int_from_bytes is deprecated, use int.from_bytes instead\n",
      "  from cryptography.utils import int_from_bytes\n",
      "/usr/lib/python3/dist-packages/secretstorage/util.py:19: CryptographyDeprecationWarning: int_from_bytes is deprecated, use int.from_bytes instead\n",
      "  from cryptography.utils import int_from_bytes\n",
      "Requirement already satisfied: gwdama in /usr/local/lib/python3.6/dist-packages (0.5.3)\n",
      "Requirement already satisfied: scipy>=1.5.1 in /usr/local/lib/python3.6/dist-packages (from gwdama) (1.5.4)\n",
      "Requirement already satisfied: numpy>=1.19.0 in /usr/local/lib/python3.6/dist-packages (from gwdama) (1.19.5)\n",
      "Requirement already satisfied: pandas>=1.0.5 in /usr/local/lib/python3.6/dist-packages (from gwdama) (1.1.5)\n",
      "Requirement already satisfied: lalsuite>=6.73 in /usr/local/lib/python3.6/dist-packages (from gwdama) (6.82)\n",
      "Requirement already satisfied: h5py==2.10.0 in /usr/local/lib/python3.6/dist-packages (from gwdama) (2.10.0)\n",
      "Requirement already satisfied: matplotlib>=3.2.2 in /usr/local/lib/python3.6/dist-packages (from gwdama) (3.3.4)\n",
      "Requirement already satisfied: astropy>=4.1 in /usr/local/lib/python3.6/dist-packages (from gwdama) (4.1)\n",
      "Requirement already satisfied: scikit-learn>=0.23.1 in /usr/local/lib/python3.6/dist-packages (from gwdama) (0.24.1)\n",
      "Requirement already satisfied: six>=1.5 in /usr/local/lib/python3.6/dist-packages (from gwdama) (1.15.0)\n",
      "Requirement already satisfied: gwdatafind in /usr/local/lib/python3.6/dist-packages (from gwdama) (1.0.4)\n",
      "Requirement already satisfied: python-dateutil in /usr/local/lib/python3.6/dist-packages (from gwdama) (2.8.1)\n",
      "Requirement already satisfied: gwpy>=1.0.1 in /usr/local/lib/python3.6/dist-packages (from gwdama) (2.0.2)\n",
      "Requirement already satisfied: gwosc==0.5.3 in /usr/local/lib/python3.6/dist-packages (from gwdama) (0.5.3)\n",
      "Requirement already satisfied: ligotimegps>=1.2.1 in /usr/local/lib/python3.6/dist-packages (from gwpy>=1.0.1->gwdama) (2.0.1)\n",
      "Requirement already satisfied: ligo-segments>=1.0.0 in /usr/local/lib/python3.6/dist-packages (from gwpy>=1.0.1->gwdama) (1.3.0)\n",
      "Requirement already satisfied: tqdm>=4.10.0 in /usr/local/lib/python3.6/dist-packages (from gwpy>=1.0.1->gwdama) (4.60.0)\n",
      "Requirement already satisfied: dqsegdb2 in /usr/local/lib/python3.6/dist-packages (from gwpy>=1.0.1->gwdama) (1.0.1)\n",
      "Requirement already satisfied: lscsoft-glue in /usr/local/lib/python3.6/dist-packages (from lalsuite>=6.73->gwdama) (2.0.0)\n",
      "Requirement already satisfied: importlib-resources in /usr/local/lib/python3.6/dist-packages (from lalsuite>=6.73->gwdama) (5.1.2)\n",
      "Requirement already satisfied: pillow>=6.2.0 in /usr/local/lib/python3.6/dist-packages (from matplotlib>=3.2.2->gwdama) (8.2.0)\n",
      "Requirement already satisfied: kiwisolver>=1.0.1 in /usr/local/lib/python3.6/dist-packages (from matplotlib>=3.2.2->gwdama) (1.3.1)\n",
      "Requirement already satisfied: cycler>=0.10 in /usr/local/lib/python3.6/dist-packages (from matplotlib>=3.2.2->gwdama) (0.10.0)\n",
      "Requirement already satisfied: pyparsing!=2.0.4,!=2.1.2,!=2.1.6,>=2.0.3 in /usr/local/lib/python3.6/dist-packages (from matplotlib>=3.2.2->gwdama) (2.4.7)\n",
      "Requirement already satisfied: pytz>=2017.2 in /usr/local/lib/python3.6/dist-packages (from pandas>=1.0.5->gwdama) (2021.1)\n",
      "Requirement already satisfied: joblib>=0.11 in /usr/local/lib/python3.6/dist-packages (from scikit-learn>=0.23.1->gwdama) (1.0.1)\n",
      "Requirement already satisfied: threadpoolctl>=2.0.0 in /usr/local/lib/python3.6/dist-packages (from scikit-learn>=0.23.1->gwdama) (2.1.0)\n",
      "Requirement already satisfied: pyOpenSSL in /usr/local/lib/python3.6/dist-packages (from gwdatafind->gwdama) (20.0.1)\n",
      "Requirement already satisfied: zipp>=0.4 in /usr/local/lib/python3.6/dist-packages (from importlib-resources->lalsuite>=6.73->gwdama) (3.4.0)\n",
      "Requirement already satisfied: cryptography>=3.2 in /usr/local/lib/python3.6/dist-packages (from pyOpenSSL->gwdatafind->gwdama) (3.4.7)\n",
      "Requirement already satisfied: cffi>=1.12 in /usr/local/lib/python3.6/dist-packages (from cryptography>=3.2->pyOpenSSL->gwdatafind->gwdama) (1.14.5)\n",
      "Requirement already satisfied: pycparser in /usr/local/lib/python3.6/dist-packages (from cffi>=1.12->cryptography>=3.2->pyOpenSSL->gwdatafind->gwdama) (2.20)\n",
      "\u001b[33mWARNING: You are using pip version 21.0.1; however, version 21.1.2 is available.\n",
      "You should consider upgrading via the '/usr/bin/python3 -m pip install --upgrade pip' command.\u001b[0m\n"
     ]
    }
   ],
   "source": [
    "#maybe needed, do it only if you have an error like \"No module named 'gwdama'\"\" below\n",
    "!pip install gwdama"
   ]
  },
  {
   "cell_type": "code",
   "execution_count": 20,
   "id": "0e36b3df",
   "metadata": {},
   "outputs": [],
   "source": [
    "from gwdama.io import GwDataManager\n",
    "import numpy as np\n",
    "from scipy.stats import norm\n",
    "import matplotlib\n",
    "import matplotlib.pyplot as plt\n",
    "%matplotlib inline  "
   ]
  },
  {
   "cell_type": "markdown",
   "id": "2ac3fe43",
   "metadata": {},
   "source": [
    "Datasets made available through the gwdama interface are organized by time and detector. Each data entry includes the strain recorded by the detector as a function of time. Datasets can be selected by indicating a time range and the detector, for this exercise we will select events in the gps time range 118674… corresponding to signal events acquired in April 2020\n",
    "\n",
    "Observing run, generally called O with a number to distinguish between many of them (for example **O3**), are our scientific and acquisition runs\n",
    "\n",
    "**gps time** is a timestamp relative to an arbitrarly event (6 January 1980), internally we use our tools to convert to usual epoch time\n",
    "\n",
    "At https://www.gw-openscience.org/events/ you could find a list of events with their gps time and a brief description of the results\n",
    "\n",
    "Let's get data between two gps 1186746568 and 1186746628 from GWOSC (default).  You can specify a name for the dataset that you are imposting passing the parameter `dts_key`. "
   ]
  },
  {
   "cell_type": "code",
   "execution_count": 21,
   "id": "776270aa",
   "metadata": {},
   "outputs": [],
   "source": [
    "event_gps = 1186746618  \n",
    "dm = GwDataManager(\"data\")\n",
    "dm.read_gwdata(event_gps - 50, event_gps +10, ifo='L1')"
   ]
  },
  {
   "cell_type": "code",
   "execution_count": 22,
   "id": "bc7ccecf",
   "metadata": {
    "scrolled": true
   },
   "outputs": [
    {
     "name": "stdout",
     "output_type": "stream",
     "text": [
      "data:\n",
      "  └── strain\n",
      "\n",
      "  Attributes:\n",
      "     dama_name : data\n",
      "    time_stamp : 21-06-03_11h52m06s\n",
      "\n"
     ]
    }
   ],
   "source": [
    "print(dm)"
   ]
  },
  {
   "cell_type": "markdown",
   "id": "97655e93",
   "metadata": {},
   "source": [
    "data acquisition is 21-04-21_10h50m25s.\n",
    "To acquire some confidence with data we will start with a plot"
   ]
  },
  {
   "cell_type": "code",
   "execution_count": 23,
   "id": "7b90ccb5",
   "metadata": {},
   "outputs": [
    {
     "data": {
      "image/png": "[encoded data removed]",
      "text/plain": [
       "<Figure size 720x216 with 1 Axes>"
      ]
     },
     "execution_count": 23,
     "metadata": {},
     "output_type": "execute_result"
    }
   ],
   "source": [
    "online=dm['strain']\n",
    "\n",
    "# time vs strain\n",
    "# to make plot more nice add some properties, they will be addedd to the figure\n",
    "online.attrs['t0'] = 1186746598\n",
    "online.attrs['sample_rate'] = 4096   # Unit Hz\n",
    "online.attrs['unit'] = \"\"\n",
    "online.attrs['channel'] = \"strain vs t\"\n",
    "\n",
    "online.plot()"
   ]
  },
  {
   "cell_type": "markdown",
   "id": "360a5992",
   "metadata": {},
   "source": [
    "**Remember**: here the timestamp is different because internally in the IGWN we use a different convention\n",
    "\n",
    "**Exercise**: read multiple files and plot them with a single for loop\n",
    "\n",
    "As a pretext to show some functions in gwdama, we will make a histogram of strain and fit with a Gaussian\n",
    "\n",
    "**norm** is a class of scipy to work with a normal distribution (https://docs.scipy.org/doc/scipy/reference/generated/scipy.stats.norm.html). In this case we will use the fit method to estimate mean and standard deviation of the input signal. If a **gw** is not present then we can assume for the scope of this exercise that the signal is normal distribute (*which is not in real life!*) "
   ]
  },
  {
   "cell_type": "code",
   "execution_count": 24,
   "id": "aadce436",
   "metadata": {},
   "outputs": [],
   "source": [
    "myplot = online.hist()\n",
    "mu, std = norm.fit(online.data)"
   ]
  },
  {
   "cell_type": "markdown",
   "id": "4eda9d9f",
   "metadata": {},
   "source": [
    "Customize the plot, adding the fitted Gaussian and a legend\n",
    "\n",
    "**gca** method gets the current Axes, creating one if necessary\n",
    "\n",
    "**get_xlim** return min and max value on the x axis\n",
    "\n",
    "**linspace** return evenly spaced number in an interval\n",
    "\n",
    "**pdf** return a probability density function (see norm before)\n",
    "\n",
    "**plot** plot x,y data. 'r--' is used to control the line style (https://matplotlib.org/stable/api/_as_gen/matplotlib.pyplot.plot.html) \n",
    "\n",
    "**legend** add a legend to the plot\n",
    "\n",
    "**show** is used to show the plot"
   ]
  },
  {
   "cell_type": "code",
   "execution_count": 25,
   "id": "243a7db2",
   "metadata": {},
   "outputs": [
    {
     "data": {
      "image/png": "[encoded data removed]",
      "text/plain": [
       "<Figure size 504x360 with 1 Axes>"
      ]
     },
     "metadata": {
      "needs_background": "light"
     },
     "output_type": "display_data"
    }
   ],
   "source": [
    "ax = myplot.gca()\n",
    "xmin, xmax = ax.get_xlim()\n",
    "x = np.linspace(xmin, xmax, 100)\n",
    "p = norm.pdf(x, mu, std)\n",
    "ax.plot(x, p, 'r--', linewidth=1, label='Gaussian fit')\n",
    "ax.legend()\n",
    "\n",
    "myplot.reshow()                    # New method to re-show closed figures"
   ]
  },
  {
   "cell_type": "code",
   "execution_count": 26,
   "id": "234cead0",
   "metadata": {},
   "outputs": [
    {
     "data": {
      "image/png": "[encoded data removed]",
      "text/plain": [
       "<Figure size 504x360 with 1 Axes>"
      ]
     },
     "execution_count": 26,
     "metadata": {},
     "output_type": "execute_result"
    }
   ],
   "source": [
    "myplot"
   ]
  },
  {
   "cell_type": "markdown",
   "id": "c4282965",
   "metadata": {},
   "source": [
    "To obtain more information from the dataset it is customary to study its \"Power Spectral Density\" (PSD) [https://en.wikipedia.org/wiki/Spectral_density] which is related to the Fourier Transform of the squared signal and measure the signal’s power content versus frequency. A PSD is typically used to characterize broadband random signals. To define the PSD we must define a grid on which we compute the Discrete Fourier Transform, the number of elements of the grid is named “sample_rate” in gwdama\n",
    "\n",
    "Create a **PSD** with sample rate 4096 Hz"
   ]
  },
  {
   "cell_type": "code",
   "execution_count": 27,
   "id": "8281d561",
   "metadata": {},
   "outputs": [
    {
     "data": {
      "text/plain": [
       "<HDF5 dataset \"strain_psd\": shape (4097,), type \"|V16\">"
      ]
     },
     "execution_count": 27,
     "metadata": {},
     "output_type": "execute_result"
    }
   ],
   "source": [
    "fs = 4096\n",
    "online.attrs['sample_rate'] = fs\n",
    "online.psd(2,1)"
   ]
  },
  {
   "cell_type": "code",
   "execution_count": 29,
   "id": "47413a23",
   "metadata": {},
   "outputs": [
    {
     "name": "stdout",
     "output_type": "stream",
     "text": [
      "data:\n",
      "  ├── strain\n",
      "  └── strain_psd\n",
      "\n",
      "  Attributes:\n",
      "     dama_name : data\n",
      "    time_stamp : 21-06-03_11h52m06s\n",
      "\n"
     ]
    }
   ],
   "source": [
    "print(dm)"
   ]
  },
  {
   "cell_type": "markdown",
   "id": "774b73ff",
   "metadata": {},
   "source": [
    "The psd is added to our dataset and named ${name}_psd, *name* in this case in \"online\"\n",
    "\n",
    "Now let's plot the PSD"
   ]
  },
  {
   "cell_type": "code",
   "execution_count": 33,
   "id": "11545cd7",
   "metadata": {},
   "outputs": [
    {
     "data": {
      "image/png": "[encoded data removed]",
      "text/plain": [
       "<Figure size 432x288 with 1 Axes>"
      ]
     },
     "metadata": {
      "needs_background": "light"
     },
     "output_type": "display_data"
    },
    {
     "data": {
      "image/png": "[encoded data removed]",
      "text/plain": [
       "<Figure size 432x288 with 1 Axes>"
      ]
     },
     "execution_count": 33,
     "metadata": {},
     "output_type": "execute_result"
    }
   ],
   "source": [
    "online_psd=dm['strain_psd']\n",
    "fig, ax = plt.subplots()\n",
    "ax.semilogy('freq', 'PSD', data=online_psd, alpha=.7, label='online_psd')\n",
    "\n",
    "ax.legend()\n",
    "ax.set_xlabel('Frequency [Hz]')\n",
    "ax.set_ylabel('PSD [1/Hz]')\n",
    "plt.show()\n",
    "fig\n"
   ]
  },
  {
   "cell_type": "markdown",
   "id": "622217d1",
   "metadata": {},
   "source": [
    "We generally work with signals normalized to their spectral density through an operation named *whitening*\n",
    "\n",
    "A **whitned** signal is a normalized signal to its spectral density. To compute it you should get in the freq domain, divide it by the square roots of the power spectral density and return to time domain\n",
    "\n",
    "For convenience gwdama provides a simple function that whiten the signal: output=whiten(input, input_psd, freq)\n",
    "or dama['name'].whiten() and the output will be dama['name_whiten']"
   ]
  },
  {
   "cell_type": "code",
   "execution_count": 35,
   "id": "bd1ff0a0",
   "metadata": {
    "scrolled": false
   },
   "outputs": [
    {
     "data": {
      "text/plain": [
       "<HDF5 dataset \"strain_whiten\": shape (245760,), type \"<f8\">"
      ]
     },
     "execution_count": 35,
     "metadata": {},
     "output_type": "execute_result"
    }
   ],
   "source": [
    "dm['strain'].whiten()"
   ]
  },
  {
   "cell_type": "code",
   "execution_count": 36,
   "id": "fifty-memphis",
   "metadata": {},
   "outputs": [
    {
     "data": {
      "image/png": "[encoded data removed]",
      "text/plain": [
       "<Figure size 720x216 with 1 Axes>"
      ]
     },
     "execution_count": 36,
     "metadata": {},
     "output_type": "execute_result"
    }
   ],
   "source": [
    "# let's plot it\n",
    "dm['strain_whiten'].plot()"
   ]
  },
  {
   "cell_type": "markdown",
   "id": "64f6b109",
   "metadata": {},
   "source": [
    "This data is sampled at 4096 Hz, but our interferometers acts like a pass band signal from a frequency ~ between 20-400Hz so it could be usefull to resample the data in order to work with lighter files and remove some noise\n",
    "\n",
    "**decimate_recursive** resamples an input signal keeping only 1 elem every n\n",
    "\n",
    "**resample** resamples an inpunt signal to a dest freq. We will use in this case 512 so we are keeping only 1 every 8 values being our original signal sampled at 4096"
   ]
  },
  {
   "cell_type": "code",
   "execution_count": 37,
   "id": "piano-leonard",
   "metadata": {},
   "outputs": [
    {
     "name": "stdout",
     "output_type": "stream",
     "text": [
      "data:\n",
      "  ├── strain\n",
      "  ├── strain_psd\n",
      "  └── strain_whiten\n",
      "\n",
      "  Attributes:\n",
      "     dama_name : data\n",
      "    time_stamp : 21-06-03_11h52m06s\n",
      "\n"
     ]
    }
   ],
   "source": [
    "print(dm)"
   ]
  },
  {
   "cell_type": "code",
   "execution_count": 38,
   "id": "5f3b17cd",
   "metadata": {},
   "outputs": [
    {
     "data": {
      "text/plain": [
       "<HDF5 dataset \"strain_whiten_r512\": shape (30720,), type \"<f8\">"
      ]
     },
     "execution_count": 38,
     "metadata": {},
     "output_type": "execute_result"
    }
   ],
   "source": [
    "dm['strain_whiten'].resample(512)"
   ]
  },
  {
   "cell_type": "code",
   "execution_count": 39,
   "id": "quarterly-wrong",
   "metadata": {},
   "outputs": [
    {
     "name": "stdout",
     "output_type": "stream",
     "text": [
      "data:\n",
      "  ├── strain\n",
      "  ├── strain_psd\n",
      "  ├── strain_whiten\n",
      "  └── strain_whiten_r512\n",
      "\n",
      "  Attributes:\n",
      "     dama_name : data\n",
      "    time_stamp : 21-06-03_11h52m06s\n",
      "\n"
     ]
    }
   ],
   "source": [
    "print(dm)\n",
    "# gwdama could return an error, because you are rewriting an already existing entry \n",
    "# this happens for example if you re-run twice a cell. Solution is easy, just delete the old entry\n",
    "# You can delete an entry with\n",
    "#del dama[\"online_whiten_r10\"]"
   ]
  },
  {
   "cell_type": "code",
   "execution_count": 40,
   "id": "theoretical-definition",
   "metadata": {},
   "outputs": [
    {
     "data": {
      "image/png": "[encoded data removed]",
      "text/plain": [
       "<Figure size 720x216 with 1 Axes>"
      ]
     },
     "execution_count": 40,
     "metadata": {},
     "output_type": "execute_result"
    }
   ],
   "source": [
    "# let's plot it\n",
    "dm['strain_whiten_r512'].plot()"
   ]
  },
  {
   "cell_type": "markdown",
   "id": "amended-equipment",
   "metadata": {},
   "source": [
    "Just for fun try to resample at 128 256 1024 too"
   ]
  },
  {
   "cell_type": "code",
   "execution_count": 42,
   "id": "generic-disabled",
   "metadata": {},
   "outputs": [
    {
     "data": {
      "text/plain": [
       "<HDF5 dataset \"strain_whiten_r1024\": shape (61440,), type \"<f8\">"
      ]
     },
     "execution_count": 42,
     "metadata": {},
     "output_type": "execute_result"
    }
   ],
   "source": [
    "dm['strain_whiten'].resample(128)\n",
    "dm['strain_whiten'].resample(256)\n",
    "dm['strain_whiten'].resample(1024)"
   ]
  },
  {
   "cell_type": "markdown",
   "id": "eca5499b",
   "metadata": {},
   "source": [
    "If you prefer to work directly with the usual list/array of values, simply get them with:\n",
    "values= dama[name_record].data \n",
    "times = dama[name_record].times\n",
    "\n",
    "**Remark**: Through all exercises, we will assume a constant sample_rate with fixed lentgh of chunks"
   ]
  },
  {
   "cell_type": "markdown",
   "id": "05a667ce",
   "metadata": {},
   "source": [
    "if you want to get more information on data and the cleaning process here a usefull link https://github.com/losc-tutorial/Data_Guide/blob/master/Guide_Notebook.ipynb"
   ]
  },
  {
   "cell_type": "markdown",
   "id": "42a7f051",
   "metadata": {},
   "source": [
    "Once data is ready we can try to encode with an **autoencoder**\n",
    "\n",
    "[from wiki]: An autoencoder is a type of artificial neural network used to learn efficient data codings in an unsupervised manner. The aim of an autoencoder is to learn a representation (encoding) for a set of data, typically for dimensionality reduction, by training the network to ignore signal “noise”. Along with the reduction side, a reconstructing side is learned, where the autoencoder tries to generate from the reduced encoding a representation as close as possible to its original input, hence its name\n",
    "\n",
    "some examples of autoencoders in keras at https://blog.keras.io/building-autoencoders-in-keras.html\n",
    "\n",
    "The idea is to encoding and decoding to original dimension searching for an optimum set of parameters that makes filtered signal more similar to original one. The encoded signal will retain all needed information but with a reduction of size"
   ]
  },
  {
   "cell_type": "markdown",
   "id": "3a15c6cf",
   "metadata": {},
   "source": [
    "To make our statement more concise we will summary some ideas on Artificial Neural Networks and Deep Learning\n",
    "\n",
    "## Artificial Neural networks \n",
    "\n",
    "**Artificial neural networks (ANNs)** are computing systems vaguely inspired by the biological neural networks that constitute animal brains.\n",
    "\n",
    "An ANN is based on a collection of connected units or nodes called artificial neurons, which loosely model the neurons in a biological brain. Each connection, like the synapses in a biological brain, can transmit a signal to other neurons. An artificial neuron that receives a signal then processes it and can signal neurons connected to it. The \"signal\" at a connection is a real number, and the output of each neuron is computed by some non-linear function of the sum of its inputs. The connections are called edges. Neurons and edges typically have a weight that adjusts as learning proceeds. The weight increases or decreases the strength of the signal at a connection. Neurons may have a threshold such that a signal is sent only if the aggregate signal crosses that threshold. Typically, neurons are aggregated into layers. Different layers may perform different transformations on their inputs. Signals travel from the first layer (the input layer), to the last layer (the output layer), possibly after traversing the layers multiple time and along different paths\n",
    "\n",
    "Artificial networks could be build by many layers, each one connected to each others. There are amny types of networks. For example:\n",
    "\n",
    "A **feedforward neural network** is an artificial neural network wherein connections between nodes do not form a cycle, layers are connected starting from the top (input) to the bottom (output) and the activation flows from top to the end exclusively\n",
    "\n",
    "A **recurrent neural network (RNN)** is a class of artificial neural networks where connections between nodes form a directed graph along a temporal sequence. This allows it to exhibit temporal dynamic behavior. Derived from feedforward neural networks, RNNs can use their internal state (memory) to process variable length sequences of inputs. Typically part of output of one layer is feed as input to the same layer at a different time\n",
    "\n",
    "[https://en.wikipedia.org/wiki/Artificial_neural_network]\n",
    "\n",
    "## Layers\n",
    "\n",
    "**Layers** are group of nodes that mimic some concepts. Each node inside the layer shares same input and output and the same activation function\n",
    "\n",
    "## Activation function\n",
    "\n",
    "The **activation function** of a node defines the output of that node given an input or set of inputs. Experience shows that only nonlinear activation functions allow networks to compute nontrivial problems using only small number of nodes\n",
    "\n",
    "- **rectifier or ReLU** activation function is an activation function defined as the positive part of its argument\n",
    "\n",
    "- **Sigmoid** activation function is an activation function which applies a sigmoid to the input. The assumption here is that we are interested in intermediate value of input, so we treat them in a liner way, greater values in modulo are not so important because are extreme and show fewer variation\n",
    "\n",
    "[ https://en.wikipedia.org/wiki/Activation_function ]\n",
    "\n",
    "## Loss function\n",
    "Loss is nothing but a prediction error of Neural Network. And the method to calculate the loss is called Loss Function. The output of keras contains two similar terms, val_loss and loss. *val_loss is the value of cost function for your cross-validation data and loss is the value of cost function for your training data.*\n",
    "\n",
    "## Optimizer\n",
    "\n",
    "The **optimizer** is used to explorer the parameters space searching which value correspond to a minimum value of the loss function\n",
    "\n",
    "## Learning \n",
    "\n",
    "**Supervised learning** is the machine learning task of learning a function that maps an input to an output based on example input-output pairs\n",
    "\n",
    "**Unsupervised learning** is the task of learning a function that maps an input to an output based on some cost function\n",
    "\n",
    "## Overfitting\n",
    "\n",
    "Overfitting is a modeling error in statistics that occurs when a function is too closely aligned to a limited set of data points. Overfitting the model generally takes the form of making an overly complex model to explain idiosyncrasies in the data under study\n",
    "\n",
    "## Regularization\n",
    "\n",
    "Regularization in machine learning is the process of regularizing the parameters that constrain, regularizes, or shrinks the coefficient estimates towards zero. In other words, this technique discourages learning a more complex or flexible model, reducing the risk of Overfitting\n",
    "\n",
    "## Restatement of the task\n",
    "\n",
    "An autoencoder has an input layer, an output layer and one or more hidden layers connecting them. The output layer has the same number of units as the input layer. Its purpose is to reconstruct its own inputs. Therefore, autoencoders are unsupervised learning models. We want our autoencoder to efficient encodes using unsupervised learning"
   ]
  },
  {
   "cell_type": "markdown",
   "id": "bd3dd595",
   "metadata": {},
   "source": [
    "**Question**: Could an autoencoder have in total only a single layer? Two layers? Three?\n",
    "\n",
    "**Remark**:The loss function is used to optimize your model. This is the function that will get minimized by the optimizer. A metric is used to judge the performance of your model!"
   ]
  },
  {
   "cell_type": "markdown",
   "id": "35b28bb6",
   "metadata": {},
   "source": [
    "We will use keras ( https://keras.io/ )\n",
    "\"Keras is an API designed for human beings, not machines. Keras follows best practices for reducing cognitive load: it offers consistent & simple APIs, it minimizes the number of user actions required for common use cases, and it provides clear & actionable error messages. It also has extensive documentation and developer guides.\"\n",
    "\n",
    "Some usefull info:\n",
    "\n",
    "- https://blog.keras.io/building-autoencoders-in-keras.html\n",
    "\n",
    "- https://keras.io/api/models/\n",
    "\n",
    "In the following we will use a slightly different approch from usual, instead of using a single command, we use sklearn as interface to call other functions. The idea is to learn to wrap Keras models for use in scikit-learn and how to use grid search. \"GridSearchCV is a library function that is a member of sklearn's model_selection package. It helps *to loop through predefined hyperparameters* and fit your estimator (model) on your training set. So, in the end, you can select the best parameters from the listed hyperparameters\" \n",
    "\n",
    "Please **Remember**: Keras is a high-level API built on Tensorflow. Scikit Learn is a general machine learning library built on top of NumPy\n",
    "\n",
    "[https://scikit-learn.org/stable/modules/generated/sklearn.model_selection.GridSearchCV.html ] \n",
    "\n",
    "[https://machinelearningmastery.com/grid-search-hyperparameters-deep-learning-models-python-keras/ ]"
   ]
  },
  {
   "cell_type": "markdown",
   "id": "5dc3f869",
   "metadata": {},
   "source": [
    "Some layers used in keras:\n",
    "\n",
    "- **Dense** layer makes output=activation(dot(input, kernel) + bias) where kernel is the matrix of parameters and activation is the activation function. Each node is fed by the whole input! \n",
    "\n",
    "- **Dropout** layer randomly sets input units to 0 with a frequency of rate at each step during training time. Inputs not set to 0 are scaled up by 1/(1 - rate) such that the sum over all inputs is unchanged"
   ]
  },
  {
   "cell_type": "markdown",
   "id": "ed011d26",
   "metadata": {},
   "source": [
    "*Please remember, before process data with machine learning tecniques it is really important to normalize and resample at a fixed rate all the data. That's why we explained in the introduction how to do it*"
   ]
  },
  {
   "cell_type": "markdown",
   "id": "286fd063",
   "metadata": {},
   "source": [
    "## Starter Example\n",
    "write an autoencoder with keras only that takes as input a 1D signal"
   ]
  },
  {
   "cell_type": "code",
   "execution_count": 43,
   "id": "69458be2",
   "metadata": {},
   "outputs": [
    {
     "name": "stdout",
     "output_type": "stream",
     "text": [
      "Model: \"model_7\"\n",
      "_________________________________________________________________\n",
      "Layer (type)                 Output Shape              Param #   \n",
      "=================================================================\n",
      "input_8 (InputLayer)         [(None, 128)]             0         \n",
      "_________________________________________________________________\n",
      "dense_24 (Dense)             (None, 32)                4128      \n",
      "_________________________________________________________________\n",
      "dense_25 (Dense)             (None, 128)               4224      \n",
      "=================================================================\n",
      "Total params: 8,352\n",
      "Trainable params: 8,352\n",
      "Non-trainable params: 0\n",
      "_________________________________________________________________\n",
      "Epoch 1/15\n",
      "30/30 [==============================] - 1s 11ms/step - loss: 9.4118 - val_loss: 9.2170\n",
      "Epoch 2/15\n",
      "30/30 [==============================] - 0s 5ms/step - loss: 9.1084 - val_loss: 9.0740\n",
      "Epoch 3/15\n",
      "30/30 [==============================] - 0s 6ms/step - loss: 9.0042 - val_loss: 8.9753\n",
      "Epoch 4/15\n",
      "30/30 [==============================] - 0s 5ms/step - loss: 8.8534 - val_loss: 8.9082\n",
      "Epoch 5/15\n",
      "30/30 [==============================] - 0s 5ms/step - loss: 8.8269 - val_loss: 8.8555\n",
      "Epoch 6/15\n",
      "30/30 [==============================] - 0s 5ms/step - loss: 8.7691 - val_loss: 8.8114\n",
      "Epoch 7/15\n",
      "30/30 [==============================] - 0s 5ms/step - loss: 8.7724 - val_loss: 8.7712\n",
      "Epoch 8/15\n",
      "30/30 [==============================] - 0s 5ms/step - loss: 8.6192 - val_loss: 8.7342\n",
      "Epoch 9/15\n",
      "30/30 [==============================] - 0s 6ms/step - loss: 8.5820 - val_loss: 8.7017\n",
      "Epoch 10/15\n",
      "30/30 [==============================] - 0s 5ms/step - loss: 8.5743 - val_loss: 8.6721\n",
      "Epoch 11/15\n",
      "30/30 [==============================] - 0s 4ms/step - loss: 8.5441 - val_loss: 8.6460\n",
      "Epoch 12/15\n",
      "30/30 [==============================] - 0s 4ms/step - loss: 8.4780 - val_loss: 8.6227\n",
      "Epoch 13/15\n",
      "30/30 [==============================] - 0s 5ms/step - loss: 8.4357 - val_loss: 8.6031\n",
      "Epoch 14/15\n",
      "30/30 [==============================] - 0s 5ms/step - loss: 8.4160 - val_loss: 8.5859\n",
      "Epoch 15/15\n",
      "30/30 [==============================] - 0s 5ms/step - loss: 8.3721 - val_loss: 8.5697\n"
     ]
    },
    {
     "data": {
      "text/plain": [
       "<tensorflow.python.keras.callbacks.History at 0x7ff02e1d4780>"
      ]
     },
     "execution_count": 43,
     "metadata": {},
     "output_type": "execute_result"
    }
   ],
   "source": [
    "import keras\n",
    "from keras import layers\n",
    "from keras.utils.vis_utils import plot_model\n",
    "\n",
    "# This is the size of our encoded representations\n",
    "original_dim = 128\n",
    "encoding_dim = 32  # 32 floats -> compression of factor 4.0, assuming the input is 128 floats\n",
    "\n",
    "# This is our input image\n",
    "input_signal = keras.Input(shape=(original_dim,))\n",
    "# \"encoded\" is the encoded representation of the input\n",
    "encoded = layers.Dense(encoding_dim, activation='relu')(input_signal)\n",
    "# \"decoded\" is the lossy reconstruction of the input\n",
    "decoded = layers.Dense(original_dim, activation='sigmoid')(encoded)\n",
    "\n",
    "# This model maps an input to its reconstruction\n",
    "autoencoder = keras.Model(input_signal, decoded)\n",
    "\n",
    "autoencoder.compile(optimizer='adam', loss='mse')\n",
    "autoencoder.summary()\n",
    "\n",
    "# for fun, let's create a random input signal() mean=0 std=3) of 128*1000 elements. Why it is multiple of 128?\n",
    "noise = np.random.normal(0, 3, original_dim*1000)\n",
    "\n",
    "# a 2d-array of shape x=original_dim, y=100\n",
    "x_signal = np.stack(np.split(noise,1000))\n",
    "x_signal.shape\n",
    "\n",
    "# first 90 rows to use as train\n",
    "x_train=x_signal[0:900,:]\n",
    "#last 10 rows to use as test\n",
    "x_test = x_signal[900:,:]\n",
    "\n",
    "# encode with a batch of 50 rows (how many iterations?) for 15 times...\n",
    "autoencoder.fit(x_train, x_train, epochs=15, batch_size=30, shuffle=True, validation_data=(x_test, x_test))"
   ]
  },
  {
   "cell_type": "markdown",
   "id": "56154109",
   "metadata": {},
   "source": [
    "## Starter example II\n",
    "add some layers for fun and acquire some confidence with keras\n",
    "\n",
    "the workflow will be the following\n",
    "original -> encoded size 32 -> convolution -> encoded size 16 -> decoded size 32 -> decoded size original\n",
    "\n",
    "it is convenient to play a bit with layers that expect a different number of dimension in this case\n",
    "\n",
    "Conv1D expects a 3d signal, for this reason we will add a singleton dimension doing\n",
    "\n",
    "*shape=(original_dim,1,)*\n",
    "\n",
    "please note the \"1\" added to the list of the dimension"
   ]
  },
  {
   "cell_type": "code",
   "execution_count": 44,
   "id": "10d8ddcf",
   "metadata": {},
   "outputs": [
    {
     "name": "stdout",
     "output_type": "stream",
     "text": [
      "Model: \"model_8\"\n",
      "_________________________________________________________________\n",
      "Layer (type)                 Output Shape              Param #   \n",
      "=================================================================\n",
      "input_9 (InputLayer)         [(None, 1, 128)]          0         \n",
      "_________________________________________________________________\n",
      "conv1d_5 (Conv1D)            (None, 1, 64)             24640     \n",
      "_________________________________________________________________\n",
      "dense_26 (Dense)             (None, 1, 32)             2080      \n",
      "_________________________________________________________________\n",
      "dense_27 (Dense)             (None, 1, 16)             528       \n",
      "_________________________________________________________________\n",
      "dense_28 (Dense)             (None, 1, 32)             544       \n",
      "_________________________________________________________________\n",
      "dense_29 (Dense)             (None, 1, 128)            4224      \n",
      "=================================================================\n",
      "Total params: 32,016\n",
      "Trainable params: 32,016\n",
      "Non-trainable params: 0\n",
      "_________________________________________________________________\n",
      "Epoch 1/15\n",
      "30/30 [==============================] - 1s 14ms/step - loss: 9.1658 - val_loss: 8.8971\n",
      "Epoch 2/15\n",
      "30/30 [==============================] - 0s 6ms/step - loss: 9.1046 - val_loss: 8.8266\n",
      "Epoch 3/15\n",
      "30/30 [==============================] - 0s 7ms/step - loss: 9.0172 - val_loss: 8.7801\n",
      "Epoch 4/15\n",
      "30/30 [==============================] - 0s 6ms/step - loss: 9.0107 - val_loss: 8.7584\n",
      "Epoch 5/15\n",
      "30/30 [==============================] - 0s 6ms/step - loss: 8.8774 - val_loss: 8.7469\n",
      "Epoch 6/15\n",
      "30/30 [==============================] - 0s 6ms/step - loss: 8.9346 - val_loss: 8.7385\n",
      "Epoch 7/15\n",
      "30/30 [==============================] - 0s 6ms/step - loss: 8.8961 - val_loss: 8.7298\n",
      "Epoch 8/15\n",
      "30/30 [==============================] - 0s 6ms/step - loss: 8.8973 - val_loss: 8.7215\n",
      "Epoch 9/15\n",
      "30/30 [==============================] - 0s 6ms/step - loss: 8.9059 - val_loss: 8.7140\n",
      "Epoch 10/15\n",
      "30/30 [==============================] - 0s 7ms/step - loss: 8.9051 - val_loss: 8.7072\n",
      "Epoch 11/15\n",
      "30/30 [==============================] - 0s 14ms/step - loss: 8.8338 - val_loss: 8.7005\n",
      "Epoch 12/15\n",
      "30/30 [==============================] - 0s 6ms/step - loss: 8.8081 - val_loss: 8.6943\n",
      "Epoch 13/15\n",
      "30/30 [==============================] - 0s 6ms/step - loss: 8.8565 - val_loss: 8.6900\n",
      "Epoch 14/15\n",
      "30/30 [==============================] - 0s 7ms/step - loss: 8.8567 - val_loss: 8.6862\n",
      "Epoch 15/15\n",
      "30/30 [==============================] - 0s 6ms/step - loss: 8.8398 - val_loss: 8.6817\n"
     ]
    },
    {
     "data": {
      "text/plain": [
       "(1000, 1, 128, 1)"
      ]
     },
     "execution_count": 44,
     "metadata": {},
     "output_type": "execute_result"
    }
   ],
   "source": [
    "import keras\n",
    "from keras import layers\n",
    "\n",
    "# This is the size of our encoded representations\n",
    "original_dim = 128\n",
    "encoding_dim = 32  # 32 floats -> compression of factor 4.0, assuming the input is 128 floats\n",
    "encoding_dim_1 = 16  # 16 floats -> compression of factor 8.0, assuming the input is 128 floats\n",
    "\n",
    "# This is our input image\n",
    "input_signal = keras.Input(shape=(1,original_dim))\n",
    "# \"encoded\" is the encoded representation of the input\n",
    "convolved = layers.Conv1D(filters=64, kernel_size=3, strides=1, padding=\"causal\", activation='relu', input_shape=(1,original_dim))(input_signal)\n",
    "encoded = layers.Dense(encoding_dim, activation='relu')(convolved)\n",
    "encoded_1 = layers.Dense(encoding_dim_1, activation='relu')(encoded)\n",
    "# \"decoded\" is the lossy reconstruction of the input\n",
    "decoded_1 = layers.Dense(encoding_dim, activation='sigmoid')(encoded_1)\n",
    "decoded = layers.Dense(original_dim, activation='sigmoid')(decoded_1)\n",
    "\n",
    "# This model maps an input to its reconstruction\n",
    "autoencoder = keras.Model(input_signal, decoded)\n",
    "\n",
    "autoencoder.compile(optimizer='adam', loss='mse')\n",
    "autoencoder.summary()\n",
    "\n",
    "# for fun, let's create a random input signal() mean=0 std=3) of 128*1000 elements. Why it is multiple of 128?\n",
    "noise = np.random.normal(0, 3, original_dim*1000)\n",
    "\n",
    "# reshape to fit data\n",
    "# process the data to fit in a keras CNN properly\n",
    "# input data needs to be (N, C, X, Y) - shaped where\n",
    "# N - number of samples\n",
    "# C - singleton dimension\n",
    "# (X, Y) - sample size\n",
    "\n",
    "X_signal = noise.reshape((1000, 1, original_dim, 1))\n",
    "x_train = X_signal[0:900,:,:,:]\n",
    "x_test = X_signal[900:,:,:,:]\n",
    "# encode with a batch of 50 rows (how many iterations?) for 15 times...\n",
    "autoencoder.fit(x_train, x_train, epochs=15, batch_size=30, shuffle=True, validation_data=(x_test, x_test))\n",
    "X_signal.shape"
   ]
  },
  {
   "cell_type": "markdown",
   "id": "aa86d26a",
   "metadata": {},
   "source": [
    "Sometime you need to see what an intermediate layer is doing,\n",
    "\n",
    "here a simple skeleton, get a list of all layers used, create a keras function with two input parameters [input, learning_phase()] and [single_layer]...then call it with data\n",
    "\n",
    "\n",
    "inp = autoencoder.input                                           # input placeholder\n",
    "outputs = [layer.output for layer in autoencoder.layers]          # all layer outputs\n",
    "functors = [keras.function([inp, keras.learning_phase()], [out]) for out in outputs]    # evaluation functions\n",
    "\n",
    "Testing\n",
    "test = np.random.random(input_shape)[np.newaxis,...]\n",
    "layer_outs = [func([test, 1.]) for func in functors]\n",
    "print layer_outs"
   ]
  },
  {
   "cell_type": "markdown",
   "id": "7aca496d",
   "metadata": {},
   "source": [
    "## Starter example III\n",
    "\n",
    "Now we will try do denoise a simple sin wave using an autoencoder, the idea is that noise is small (and higher freqs) compared to signal. \n",
    "\n",
    "Autoencoding remove some data, maybe it could remove part of noise in this very simple case...\n",
    "\n",
    "Here you could see what's happen if! Feel free to change parameters like offset signal, num_array, interval, epochs and so on"
   ]
  },
  {
   "cell_type": "code",
   "execution_count": 50,
   "id": "e407439a",
   "metadata": {},
   "outputs": [
    {
     "name": "stdout",
     "output_type": "stream",
     "text": [
      "Model: \"model_13\"\n",
      "_________________________________________________________________\n",
      "Layer (type)                 Output Shape              Param #   \n",
      "=================================================================\n",
      "input_14 (InputLayer)        [(None, 1, 629)]          0         \n",
      "_________________________________________________________________\n",
      "conv1d_10 (Conv1D)           (None, 1, 314)            592832    \n",
      "_________________________________________________________________\n",
      "dense_46 (Dense)             (None, 1, 314)            98910     \n",
      "_________________________________________________________________\n",
      "dense_47 (Dense)             (None, 1, 31)             9765      \n",
      "_________________________________________________________________\n",
      "dense_48 (Dense)             (None, 1, 314)            10048     \n",
      "_________________________________________________________________\n",
      "dense_49 (Dense)             (None, 1, 629)            198135    \n",
      "=================================================================\n",
      "Total params: 909,690\n",
      "Trainable params: 909,690\n",
      "Non-trainable params: 0\n",
      "_________________________________________________________________\n",
      "Epoch 1/20\n",
      "1/1 [==============================] - 1s 965ms/step - loss: 0.1526 - val_loss: 0.1323\n",
      "Epoch 2/20\n",
      "1/1 [==============================] - 0s 101ms/step - loss: 0.1297 - val_loss: 0.1124\n",
      "Epoch 3/20\n",
      "1/1 [==============================] - 0s 95ms/step - loss: 0.1093 - val_loss: 0.0951\n",
      "Epoch 4/20\n",
      "1/1 [==============================] - 0s 80ms/step - loss: 0.0914 - val_loss: 0.0803\n",
      "Epoch 5/20\n",
      "1/1 [==============================] - 0s 99ms/step - loss: 0.0762 - val_loss: 0.0680\n",
      "Epoch 6/20\n",
      "1/1 [==============================] - 0s 96ms/step - loss: 0.0634 - val_loss: 0.0579\n",
      "Epoch 7/20\n",
      "1/1 [==============================] - 0s 112ms/step - loss: 0.0531 - val_loss: 0.0500\n",
      "Epoch 8/20\n",
      "1/1 [==============================] - 0s 405ms/step - loss: 0.0450 - val_loss: 0.0440\n",
      "Epoch 9/20\n",
      "1/1 [==============================] - 0s 103ms/step - loss: 0.0388 - val_loss: 0.0394\n",
      "Epoch 10/20\n",
      "1/1 [==============================] - 0s 85ms/step - loss: 0.0342 - val_loss: 0.0362\n",
      "Epoch 11/20\n",
      "1/1 [==============================] - 0s 73ms/step - loss: 0.0309 - val_loss: 0.0339\n",
      "Epoch 12/20\n",
      "1/1 [==============================] - 0s 71ms/step - loss: 0.0286 - val_loss: 0.0322\n",
      "Epoch 13/20\n",
      "1/1 [==============================] - 0s 103ms/step - loss: 0.0269 - val_loss: 0.0310\n",
      "Epoch 14/20\n",
      "1/1 [==============================] - 0s 99ms/step - loss: 0.0258 - val_loss: 0.0301\n",
      "Epoch 15/20\n",
      "1/1 [==============================] - 0s 86ms/step - loss: 0.0250 - val_loss: 0.0294\n",
      "Epoch 16/20\n",
      "1/1 [==============================] - 0s 72ms/step - loss: 0.0244 - val_loss: 0.0289\n",
      "Epoch 17/20\n",
      "1/1 [==============================] - 0s 74ms/step - loss: 0.0240 - val_loss: 0.0286\n",
      "Epoch 18/20\n",
      "1/1 [==============================] - 0s 100ms/step - loss: 0.0236 - val_loss: 0.0284\n",
      "Epoch 19/20\n",
      "1/1 [==============================] - 0s 110ms/step - loss: 0.0233 - val_loss: 0.0282\n",
      "Epoch 20/20\n",
      "1/1 [==============================] - 0s 99ms/step - loss: 0.0231 - val_loss: 0.0282\n",
      "WARNING:tensorflow:9 out of the last 9 calls to <function Model.make_predict_function.<locals>.predict_function at 0x7ff02e3098c8> triggered tf.function retracing. Tracing is expensive and the excessive number of tracings could be due to (1) creating @tf.function repeatedly in a loop, (2) passing tensors with different shapes, (3) passing Python objects instead of tensors. For (1), please define your @tf.function outside of the loop. For (2), @tf.function has experimental_relax_shapes=True option that relaxes argument shapes that can avoid unnecessary retracing. For (3), please refer to https://www.tensorflow.org/guide/function#controlling_retracing and https://www.tensorflow.org/api_docs/python/tf/function for  more details.\n"
     ]
    },
    {
     "data": {
      "image/png": "[encoded data removed]",
      "text/plain": [
       "<Figure size 432x288 with 1 Axes>"
      ]
     },
     "metadata": {
      "needs_background": "light"
     },
     "output_type": "display_data"
    }
   ],
   "source": [
    "def gen_time(tmin=0,tmax=np.pi*10,step=0.05):\n",
    "    time = np.arange(tmin, tmax, step)\n",
    "    return time, len(time)\n",
    "\n",
    "def gen_signal(time, amp=1):\n",
    "    # Amplitude of the sine wave is sine of a variable like time.\n",
    "    amplitude = amp* np.sin(time)\n",
    "    return amplitude\n",
    "\n",
    "def gen_noise(npoints=1000, sigma=3, mean=0, amplitude=0.1):\n",
    "    noise = amplitude * np.random.normal(mean, sigma, npoints)\n",
    "    return noise\n",
    "\n",
    "def gen_signal_array(time, amp_signal, amp_noise, sigma, mean, nelems=1000, offset=0):\n",
    "    npoints = len(time)\n",
    "    arr = np.array([])\n",
    "    for el in range(0,nelems):\n",
    "        signal = gen_signal(time, amp_signal) + offset\n",
    "        noise = gen_noise(npoints, sigma, mean, amp_noise)\n",
    "        wave = signal + noise\n",
    "        arr = np.concatenate((arr, wave))\n",
    "    return arr\n",
    "\n",
    "time, npoints = gen_time()\n",
    "\n",
    "# This is the size of our encoded representations\n",
    "original_dim = npoints\n",
    "encoding_dim = npoints/2  \n",
    "encoding_dim_1 = npoints/20\n",
    "num_array = 10\n",
    "\n",
    "arr = gen_signal_array(time, amp_signal=0.5, amp_noise=0.05, sigma=3, mean=0, nelems=num_array, offset=0.5)\n",
    "\n",
    "# reshape to fit data\n",
    "# process the data to fit in a keras CNN properly\n",
    "# input data needs to be (N, C, X, Y) - shaped where\n",
    "# N - number of samples\n",
    "# C - singleton dimension\n",
    "# (X, Y) - sample size\n",
    "\n",
    "X_signal = arr.reshape((num_array, 1, original_dim, 1))\n",
    "x_train = X_signal[0:round(0.9*num_array),:,:,:]\n",
    "if round(0.9*num_array) == num_array:\n",
    "    x_test = x_train\n",
    "else:\n",
    "    x_test = X_signal[round(0.9*num_array):,:,:,:]\n",
    "\n",
    "def autoencoder_func(x_train, x_test, epochs=150):\n",
    "    # This is our input image\n",
    "    input_signal = keras.Input(shape=(1,original_dim))\n",
    "    # \"encoded\" is the encoded representation of the input\n",
    "    convolved = layers.Conv1D(filters=314, kernel_size=3, strides=1, padding=\"causal\", activation='relu', input_shape=(1,original_dim))(input_signal)\n",
    "    encoded = layers.Dense(encoding_dim, activation='relu')(convolved)\n",
    "    encoded_1 = layers.Dense(encoding_dim_1, activation='relu')(encoded)\n",
    "    # \"decoded\" is the lossy reconstruction of the input\n",
    "    decoded_1 = layers.Dense(encoding_dim, activation='sigmoid')(encoded_1)\n",
    "    decoded = layers.Dense(original_dim, activation='sigmoid')(decoded_1)\n",
    "\n",
    "    # This model maps an input to its reconstruction\n",
    "    autoencoder = keras.Model(input_signal, decoded)\n",
    "\n",
    "    autoencoder.compile(optimizer='adam', loss='mse')\n",
    "    autoencoder.summary()\n",
    "    history = autoencoder.fit(x_train, x_train, epochs=epochs, batch_size=10, shuffle=True, validation_data=(x_test, x_test))\n",
    "    decoded = autoencoder.predict(x_test)\n",
    "    return history, decoded, autoencoder\n",
    "\n",
    "history, decoded, model = autoencoder_func(x_train, x_test, epochs=20)\n",
    "\n",
    "# plot results\n",
    "plt.plot(time, x_train[0,:,:].reshape(len(time),1))\n",
    "plt.plot(time, decoded[0,:,:].reshape(len(time),1))\n",
    "plt.show()\n"
   ]
  },
  {
   "cell_type": "markdown",
   "id": "9af730a3",
   "metadata": {},
   "source": [
    "**Query**: Sometimes the decoded signal get clamped, are you able to understand why?\n",
    "\n",
    "**Query2**: Do you remember the difference between loss and val_loss?\n",
    "\n",
    "**Task**: Are you able to make a plot of loss vs epochs?\n",
    "\n",
    "**Query3**: The training time increase/decrease when changing the batch_size? and how about the loss?"
   ]
  },
  {
   "cell_type": "markdown",
   "id": "7553e249",
   "metadata": {},
   "source": [
    "draw the model!!!"
   ]
  },
  {
   "cell_type": "code",
   "execution_count": 51,
   "id": "522f3dc9",
   "metadata": {},
   "outputs": [
    {
     "data": {
      "image/png": "[encoded data removed]",
      "text/plain": [
       "<IPython.core.display.Image object>"
      ]
     },
     "execution_count": 51,
     "metadata": {},
     "output_type": "execute_result"
    }
   ],
   "source": [
    "plot_model(model, show_shapes=True, show_layer_names=True)"
   ]
  },
  {
   "cell_type": "markdown",
   "id": "2e3df7b6",
   "metadata": {},
   "source": [
    "**Remark** There are many parameters, you have to chose them to obtain the minimum of val_loss/loss\n",
    "\n",
    "It is a matter of chosing the right parameters, and you have to explore them, that's why we introduce a grid search\n",
    "\n",
    "That's function is in sklearn, let's jump straight to the next example"
   ]
  },
  {
   "cell_type": "markdown",
   "id": "a4218374",
   "metadata": {},
   "source": [
    "## Simple example\n",
    "in this example we will use different api from the one used before, it is easy to change between one format and the other\n",
    "\n",
    "A skeleton autoencoder will take input, import relevant functions, define a model, optimize it and test it\n",
    "\n",
    "Let's start!"
   ]
  },
  {
   "cell_type": "code",
   "execution_count": 52,
   "id": "b7d03bf2",
   "metadata": {},
   "outputs": [
    {
     "data": {
      "text/plain": [
       "(100, 100)"
      ]
     },
     "execution_count": 52,
     "metadata": {},
     "output_type": "execute_result"
    }
   ],
   "source": [
    "# input\n",
    "# we will split our data in chunk of n elements and we will feeds our network with all these chunks\n",
    "n_features = 100 # is the size of a single chunk of data\n",
    "n_encoded = n_features\n",
    "\n",
    "# add a normal dataset to dama\n",
    "dm.create_dataset('random_n', data=np.random.normal(0, 1, (10000,)))\n",
    "\n",
    "# access its data and store in variable input_data\n",
    "input_data = dm['random_n'].data\n",
    "\n",
    "# split data in chunks of 100 element each one and stack each chunk vertically\n",
    "chunks = np.stack(np.split(input_data,100))\n",
    "chunks.shape"
   ]
  },
  {
   "cell_type": "code",
   "execution_count": 53,
   "id": "eeae26e4",
   "metadata": {},
   "outputs": [],
   "source": [
    "import math\n",
    "\n",
    "from keras import optimizers\n",
    "from keras.optimizers import Nadam\n",
    "\n",
    "from keras import regularizers\n",
    "\n",
    "from keras.models import Sequential\n",
    "\n",
    "from keras.layers import Dense, Activation, Dropout, TimeDistributed\n",
    "\n",
    "from sklearn import metrics\n",
    "from sklearn.metrics import mean_squared_error, mean_absolute_error\n",
    "\n",
    "from keras.wrappers.scikit_learn import KerasRegressor\n",
    "from sklearn.model_selection import GridSearchCV\n",
    "\n",
    "import joblib"
   ]
  },
  {
   "cell_type": "code",
   "execution_count": 54,
   "id": "685b0996",
   "metadata": {},
   "outputs": [],
   "source": [
    "# a very simple model, feedforward neural network with two layers and with two different activation functions\n",
    "def baseline_model(bias1=1e-9, bias2=1e-9, ker1=1e-9, ker2=1e-9):\n",
    "  \n",
    "    model = Sequential()\n",
    "    model.add(Dense(n_features, activation='sigmoid', input_shape=(n_features,), bias_regularizer=regularizers.l1_l2(l1=bias1, l2=bias2), kernel_regularizer=regularizers.l1_l2(l1=ker1, l2=ker2)))\n",
    "    model.add(Dense(n_encoded, activation='relu', bias_regularizer=regularizers.l1_l2(l1=bias1, l2=bias2), kernel_regularizer=regularizers.l1_l2(l1=ker1, l2=ker2)))\n",
    "\n",
    "    model.compile(optimizer=Nadam(lr=5e-6), loss='mse', metrics=['mse'])\n",
    "\n",
    "    return model"
   ]
  },
  {
   "cell_type": "markdown",
   "id": "a70bc4e4",
   "metadata": {},
   "source": [
    "We had defined a function (with four parameters!) that build a very minimalistic model\n",
    "\n",
    "**Sequential** initialize the model\n",
    "\n",
    "**add** method is used to add layers to your model\n",
    "\n",
    "**compile** method id used to configure the model for training https://www.tensorflow.org/api_docs/python/tf/keras/Model#compile\n",
    "\n",
    "some reference to its parameters:\n",
    "- https://www.tensorflow.org/api_docs/python/tf/keras/optimizers\n",
    "- https://www.tensorflow.org/api_docs/python/tf/keras/losses\n",
    "- https://www.tensorflow.org/api_docs/python/tf/keras/metrics/Metric\n",
    "\n",
    "You could get usefull debugging message with **model.summary()**"
   ]
  },
  {
   "cell_type": "code",
   "execution_count": 55,
   "id": "e84d2213",
   "metadata": {},
   "outputs": [],
   "source": [
    "# machine learning\n",
    "# epochs is used for recurrent networks, we don't need them so we set to 1\n",
    "# batch_size is the number of input chunks\n",
    "#mlp = KerasRegressor(build_fn=baseline_model, epochs=1, batch_size=n_features, verbose=0)\n",
    "mlp = KerasRegressor(build_fn=baseline_model, verbose=0)"
   ]
  },
  {
   "cell_type": "markdown",
   "id": "10a89ed0",
   "metadata": {},
   "source": [
    "**KerasRegressor** is a wrapper to use keras from sklearn. It takes as parameters, your function model, epochs, batch size. See for example https://www.tensorflow.org/api_docs/python/tf/keras/wrappers/scikit_learn/KerasRegressor\n",
    "\n",
    "The **batch size** is a hyperparameter that defines the number of samples to work through before updating the internal model parameters\n",
    "\n",
    "The number of **epochs** is a hyperparameter that defines the number times that the learning algorithm will work through the entire training dataset. See for example https://machinelearningmastery.com/difference-between-a-batch-and-an-epoch/"
   ]
  },
  {
   "cell_type": "code",
   "execution_count": 56,
   "id": "a3bac79d",
   "metadata": {},
   "outputs": [],
   "source": [
    "# space of parameters used when call our model, only one value for each....\n",
    "# in the next example we will use a dictionary like the following, trying to search on parameters that regularise the network\n",
    "# param_distr = dict(bias1 = [1e-9], bias2 = [1e-9], ker2 = [1e-9], ker1 = [1e-9])\n",
    "param_distr = dict(epochs=[1], batch_size=[n_features])"
   ]
  },
  {
   "cell_type": "markdown",
   "id": "63f999d7",
   "metadata": {},
   "source": [
    "param_distr is a dictionary of parameters to try, we will explore on all combinations\n",
    "**Query**: How many combinations will have in a general case? In this case?"
   ]
  },
  {
   "cell_type": "code",
   "execution_count": 57,
   "id": "7e79ae5b",
   "metadata": {},
   "outputs": [],
   "source": [
    "# build our model all together\n",
    "grid_search = GridSearchCV(estimator=mlp, param_grid=param_distr, cv=3)"
   ]
  },
  {
   "cell_type": "markdown",
   "id": "e8ee4b94",
   "metadata": {},
   "source": [
    "**GridSearchCV** Exhaustive search over specified parameter values for an estimator. So we are trying all combinations! https://scikit-learn.org/stable/modules/generated/sklearn.model_selection.GridSearchCV.html\n",
    "\n",
    "In particular: https://scikit-learn.org/stable/modules/generated/sklearn.model_selection.GridSearchCV.html#sklearn.model_selection.GridSearchCV.fit\n",
    "\n",
    "X: array-like of shape (n_samples, n_features)"
   ]
  },
  {
   "cell_type": "code",
   "execution_count": 58,
   "id": "7c530001",
   "metadata": {},
   "outputs": [
    {
     "name": "stdout",
     "output_type": "stream",
     "text": [
      "WARNING:tensorflow:5 out of the last 24 calls to <function Model.make_train_function.<locals>.train_function at 0x7ff0e52308c8> triggered tf.function retracing. Tracing is expensive and the excessive number of tracings could be due to (1) creating @tf.function repeatedly in a loop, (2) passing tensors with different shapes, (3) passing Python objects instead of tensors. For (1), please define your @tf.function outside of the loop. For (2), @tf.function has experimental_relax_shapes=True option that relaxes argument shapes that can avoid unnecessary retracing. For (3), please refer to https://www.tensorflow.org/guide/function#controlling_retracing and https://www.tensorflow.org/api_docs/python/tf/function for  more details.\n"
     ]
    },
    {
     "data": {
      "text/plain": [
       "GridSearchCV(cv=3,\n",
       "             estimator=<tensorflow.python.keras.wrappers.scikit_learn.KerasRegressor object at 0x7ff02c654c88>,\n",
       "             param_grid={'batch_size': [100], 'epochs': [1]})"
      ]
     },
     "execution_count": 58,
     "metadata": {},
     "output_type": "execute_result"
    }
   ],
   "source": [
    "# fit it\n",
    "# vay all nodes based on param_distr to make output \"near\" to input. Near here mean output of a distance function 'mse' \n",
    "grid_search.fit(chunks, chunks)"
   ]
  },
  {
   "cell_type": "code",
   "execution_count": 59,
   "id": "25905f4f",
   "metadata": {},
   "outputs": [
    {
     "name": "stdout",
     "output_type": "stream",
     "text": [
      "Best: -1.162755 using {'batch_size': 100, 'epochs': 1}\n"
     ]
    }
   ],
   "source": [
    "# get some info\n",
    "print(\"Best: %f using %s\" % (grid_search.best_score_, grid_search.best_params_))\n",
    "means  = grid_search.cv_results_['mean_test_score']\n",
    "stds   = grid_search.cv_results_['std_test_score']\n",
    "params = grid_search.cv_results_['params']"
   ]
  },
  {
   "cell_type": "markdown",
   "id": "94939105",
   "metadata": {},
   "source": [
    "**Question**: Is output data only positive? why?"
   ]
  },
  {
   "cell_type": "markdown",
   "id": "45e4f76d",
   "metadata": {},
   "source": [
    "## Exercise 1: Alter model changing activation functions\n",
    "\n",
    "Redo all steps but in the model function use a different activation function"
   ]
  },
  {
   "cell_type": "code",
   "execution_count": 60,
   "id": "97f73e3d",
   "metadata": {},
   "outputs": [
    {
     "name": "stdout",
     "output_type": "stream",
     "text": [
      "WARNING:tensorflow:6 out of the last 25 calls to <function Model.make_train_function.<locals>.train_function at 0x7ff02cca98c8> triggered tf.function retracing. Tracing is expensive and the excessive number of tracings could be due to (1) creating @tf.function repeatedly in a loop, (2) passing tensors with different shapes, (3) passing Python objects instead of tensors. For (1), please define your @tf.function outside of the loop. For (2), @tf.function has experimental_relax_shapes=True option that relaxes argument shapes that can avoid unnecessary retracing. For (3), please refer to https://www.tensorflow.org/guide/function#controlling_retracing and https://www.tensorflow.org/api_docs/python/tf/function for  more details.\n",
      "WARNING:tensorflow:5 out of the last 24 calls to <function Model.make_test_function.<locals>.test_function at 0x7ff0e523aa60> triggered tf.function retracing. Tracing is expensive and the excessive number of tracings could be due to (1) creating @tf.function repeatedly in a loop, (2) passing tensors with different shapes, (3) passing Python objects instead of tensors. For (1), please define your @tf.function outside of the loop. For (2), @tf.function has experimental_relax_shapes=True option that relaxes argument shapes that can avoid unnecessary retracing. For (3), please refer to https://www.tensorflow.org/guide/function#controlling_retracing and https://www.tensorflow.org/api_docs/python/tf/function for  more details.\n",
      "WARNING:tensorflow:7 out of the last 26 calls to <function Model.make_train_function.<locals>.train_function at 0x7ff02c12bd90> triggered tf.function retracing. Tracing is expensive and the excessive number of tracings could be due to (1) creating @tf.function repeatedly in a loop, (2) passing tensors with different shapes, (3) passing Python objects instead of tensors. For (1), please define your @tf.function outside of the loop. For (2), @tf.function has experimental_relax_shapes=True option that relaxes argument shapes that can avoid unnecessary retracing. For (3), please refer to https://www.tensorflow.org/guide/function#controlling_retracing and https://www.tensorflow.org/api_docs/python/tf/function for  more details.\n",
      "WARNING:tensorflow:6 out of the last 25 calls to <function Model.make_test_function.<locals>.test_function at 0x7ff0e5456730> triggered tf.function retracing. Tracing is expensive and the excessive number of tracings could be due to (1) creating @tf.function repeatedly in a loop, (2) passing tensors with different shapes, (3) passing Python objects instead of tensors. For (1), please define your @tf.function outside of the loop. For (2), @tf.function has experimental_relax_shapes=True option that relaxes argument shapes that can avoid unnecessary retracing. For (3), please refer to https://www.tensorflow.org/guide/function#controlling_retracing and https://www.tensorflow.org/api_docs/python/tf/function for  more details.\n",
      "WARNING:tensorflow:8 out of the last 27 calls to <function Model.make_train_function.<locals>.train_function at 0x7ff02e2ae598> triggered tf.function retracing. Tracing is expensive and the excessive number of tracings could be due to (1) creating @tf.function repeatedly in a loop, (2) passing tensors with different shapes, (3) passing Python objects instead of tensors. For (1), please define your @tf.function outside of the loop. For (2), @tf.function has experimental_relax_shapes=True option that relaxes argument shapes that can avoid unnecessary retracing. For (3), please refer to https://www.tensorflow.org/guide/function#controlling_retracing and https://www.tensorflow.org/api_docs/python/tf/function for  more details.\n",
      "WARNING:tensorflow:7 out of the last 26 calls to <function Model.make_test_function.<locals>.test_function at 0x7ff02c0ef2f0> triggered tf.function retracing. Tracing is expensive and the excessive number of tracings could be due to (1) creating @tf.function repeatedly in a loop, (2) passing tensors with different shapes, (3) passing Python objects instead of tensors. For (1), please define your @tf.function outside of the loop. For (2), @tf.function has experimental_relax_shapes=True option that relaxes argument shapes that can avoid unnecessary retracing. For (3), please refer to https://www.tensorflow.org/guide/function#controlling_retracing and https://www.tensorflow.org/api_docs/python/tf/function for  more details.\n",
      "WARNING:tensorflow:9 out of the last 28 calls to <function Model.make_train_function.<locals>.train_function at 0x7ff016e14730> triggered tf.function retracing. Tracing is expensive and the excessive number of tracings could be due to (1) creating @tf.function repeatedly in a loop, (2) passing tensors with different shapes, (3) passing Python objects instead of tensors. For (1), please define your @tf.function outside of the loop. For (2), @tf.function has experimental_relax_shapes=True option that relaxes argument shapes that can avoid unnecessary retracing. For (3), please refer to https://www.tensorflow.org/guide/function#controlling_retracing and https://www.tensorflow.org/api_docs/python/tf/function for  more details.\n",
      "Best: -1.307258 using {'batch_size': 100, 'epochs': 1}\n"
     ]
    }
   ],
   "source": [
    "# a very simple model, feedforward neural network with two layers and with two different activation functions\n",
    "def baseline_model1(bias1=1e-9, bias2=1e-9, ker1=1e-9, ker2=1e-9):\n",
    "  \n",
    "    model1 = Sequential()\n",
    "    model1.add(Dense(n_features, activation='relu', input_shape=(n_features,), bias_regularizer=regularizers.l1_l2(l1=bias1, l2=bias2), kernel_regularizer=regularizers.l1_l2(l1=ker1, l2=ker2)))\n",
    "    model1.add(Dense(n_features, activation='sigmoid', bias_regularizer=regularizers.l1_l2(l1=bias1, l2=bias2), kernel_regularizer=regularizers.l1_l2(l1=ker1, l2=ker2)))\n",
    "\n",
    "    model1.compile(optimizer=Nadam(lr=5e-6), loss='mse', metrics=['mse'])\n",
    "\n",
    "    return model1\n",
    "\n",
    "\n",
    "mlp1 = KerasRegressor(build_fn=baseline_model1, epochs=1, batch_size=n_features, verbose=0)\n",
    "param_distr1 = dict(bias1 = [1e-9], bias2 = [1e-9], ker2 = [1e-9], ker1 = [1e-9])\n",
    "grid_search1 = GridSearchCV(estimator=mlp1, param_grid=param_distr1, cv=3)\n",
    "grid_search1.fit(chunks, chunks)\n",
    "print(\"Best: %f using %s\" % (grid_search1.best_score_, grid_search.best_params_))\n",
    "means  = grid_search1.cv_results_['mean_test_score']\n",
    "stds   = grid_search1.cv_results_['std_test_score']\n",
    "params = grid_search1.cv_results_['params']"
   ]
  },
  {
   "cell_type": "markdown",
   "id": "8c3813d1",
   "metadata": {},
   "source": [
    "## Exercise 2: example with real data\n",
    "\n",
    "We need to follow exactly what we did before but using our gw data insetad of our simulated data\n",
    "\n",
    "Recall that to get data from dama you could use \"dama['random_n'].data\" \n",
    "\n",
    "In real life before start we will have to decide what will be\n",
    "- our chunk size\n",
    "- our metric\n",
    "\n",
    "using frequency and other values as starting point\n",
    "\n",
    "We can however start with an (nearly!) arbitrary value and see what will happen\n",
    "\n"
   ]
  },
  {
   "cell_type": "code",
   "execution_count": 62,
   "id": "conditional-poland",
   "metadata": {},
   "outputs": [
    {
     "name": "stdout",
     "output_type": "stream",
     "text": [
      "<HDF5 dataset \"strain_whiten_r512\": shape (30720,), type \"<f8\">\n"
     ]
    },
    {
     "data": {
      "text/plain": [
       "(30720,)"
      ]
     },
     "execution_count": 62,
     "metadata": {},
     "output_type": "execute_result"
    }
   ],
   "source": [
    "print(dm['strain_whiten_r512'])\n",
    "input_data=np.array(dm['strain_whiten_r512'].data)\n",
    "input_data.shape"
   ]
  },
  {
   "cell_type": "markdown",
   "id": "incredible-being",
   "metadata": {},
   "source": [
    "get a number of point mutiple of 100, for example we will use first 49 * 100 elems"
   ]
  },
  {
   "cell_type": "code",
   "execution_count": 63,
   "id": "critical-nightmare",
   "metadata": {},
   "outputs": [
    {
     "data": {
      "text/plain": [
       "(4900,)"
      ]
     },
     "execution_count": 63,
     "metadata": {},
     "output_type": "execute_result"
    }
   ],
   "source": [
    "input_data[0:4900].shape"
   ]
  },
  {
   "cell_type": "code",
   "execution_count": 64,
   "id": "empty-philippines",
   "metadata": {
    "scrolled": true
   },
   "outputs": [
    {
     "data": {
      "text/plain": [
       "(100, 49)"
      ]
     },
     "execution_count": 64,
     "metadata": {},
     "output_type": "execute_result"
    }
   ],
   "source": [
    "chunks = np.stack(np.split(input_data[0:4900],100))\n",
    "chunks.shape"
   ]
  },
  {
   "cell_type": "markdown",
   "id": "elegant-sound",
   "metadata": {},
   "source": [
    "as already said, we have an array-like of shape (n_samples, n_features)\n",
    "so here we have 49 features in 100 samples\n",
    "\n",
    "We can now proceed as usual"
   ]
  },
  {
   "cell_type": "code",
   "execution_count": 65,
   "id": "concrete-flash",
   "metadata": {},
   "outputs": [
    {
     "name": "stdout",
     "output_type": "stream",
     "text": [
      "WARNING:tensorflow:10 out of the last 29 calls to <function Model.make_train_function.<locals>.train_function at 0x7ff014119598> triggered tf.function retracing. Tracing is expensive and the excessive number of tracings could be due to (1) creating @tf.function repeatedly in a loop, (2) passing tensors with different shapes, (3) passing Python objects instead of tensors. For (1), please define your @tf.function outside of the loop. For (2), @tf.function has experimental_relax_shapes=True option that relaxes argument shapes that can avoid unnecessary retracing. For (3), please refer to https://www.tensorflow.org/guide/function#controlling_retracing and https://www.tensorflow.org/api_docs/python/tf/function for  more details.\n",
      "WARNING:tensorflow:8 out of the last 27 calls to <function Model.make_test_function.<locals>.test_function at 0x7feff87601e0> triggered tf.function retracing. Tracing is expensive and the excessive number of tracings could be due to (1) creating @tf.function repeatedly in a loop, (2) passing tensors with different shapes, (3) passing Python objects instead of tensors. For (1), please define your @tf.function outside of the loop. For (2), @tf.function has experimental_relax_shapes=True option that relaxes argument shapes that can avoid unnecessary retracing. For (3), please refer to https://www.tensorflow.org/guide/function#controlling_retracing and https://www.tensorflow.org/api_docs/python/tf/function for  more details.\n",
      "WARNING:tensorflow:8 out of the last 11 calls to <function Model.make_test_function.<locals>.test_function at 0x7feff857c730> triggered tf.function retracing. Tracing is expensive and the excessive number of tracings could be due to (1) creating @tf.function repeatedly in a loop, (2) passing tensors with different shapes, (3) passing Python objects instead of tensors. For (1), please define your @tf.function outside of the loop. For (2), @tf.function has experimental_relax_shapes=True option that relaxes argument shapes that can avoid unnecessary retracing. For (3), please refer to https://www.tensorflow.org/guide/function#controlling_retracing and https://www.tensorflow.org/api_docs/python/tf/function for  more details.\n",
      "WARNING:tensorflow:5 out of the last 11 calls to <function Model.make_test_function.<locals>.test_function at 0x7ff02c18dbf8> triggered tf.function retracing. Tracing is expensive and the excessive number of tracings could be due to (1) creating @tf.function repeatedly in a loop, (2) passing tensors with different shapes, (3) passing Python objects instead of tensors. For (1), please define your @tf.function outside of the loop. For (2), @tf.function has experimental_relax_shapes=True option that relaxes argument shapes that can avoid unnecessary retracing. For (3), please refer to https://www.tensorflow.org/guide/function#controlling_retracing and https://www.tensorflow.org/api_docs/python/tf/function for  more details.\n",
      "Best: -0.390438 using {'bias1': 1e-09, 'bias2': 1e-09, 'ker1': 1e-09, 'ker2': 1e-09}\n"
     ]
    }
   ],
   "source": [
    "n_features=49\n",
    "\n",
    "# a very simple model, feedforward neural network with two layers and with two different activation functions\n",
    "def baseline_model2(bias1=1e-9, bias2=1e-9, ker1=1e-9, ker2=1e-9):\n",
    "  \n",
    "    model2 = Sequential()\n",
    "    model2.add(Dense(n_features, activation='relu', input_shape=(n_features,), bias_regularizer=regularizers.l1_l2(l1=bias1, l2=bias2), kernel_regularizer=regularizers.l1_l2(l1=ker1, l2=ker2)))\n",
    "    model2.add(Dense(n_features, activation='sigmoid', bias_regularizer=regularizers.l1_l2(l1=bias1, l2=bias2), kernel_regularizer=regularizers.l1_l2(l1=ker1, l2=ker2)))\n",
    "\n",
    "    model2.compile(optimizer=Nadam(lr=5e-6), loss='mse', metrics=['mse'])\n",
    "\n",
    "    return model2\n",
    "\n",
    "\n",
    "mlp2 = KerasRegressor(build_fn=baseline_model2, epochs=100, batch_size=10, verbose=0)\n",
    "param_distr2 = dict(bias1 = [1e-9], bias2 = [1e-9], ker2 = [1e-9], ker1 = [1e-9])\n",
    "grid_search2 = GridSearchCV(estimator=mlp2, param_grid=param_distr2, cv=3)\n",
    "grid_search2.fit(chunks, chunks)\n",
    "print(\"Best: %f using %s\" % (grid_search2.best_score_, grid_search2.best_params_))\n",
    "means  = grid_search2.cv_results_['mean_test_score']\n",
    "stds   = grid_search2.cv_results_['std_test_score']\n",
    "params = grid_search2.cv_results_['params']"
   ]
  },
  {
   "cell_type": "markdown",
   "id": "nervous-drilling",
   "metadata": {},
   "source": [
    "**Note**: Could you alter code to have 49 elems(samples) of 100 features each one?"
   ]
  },
  {
   "cell_type": "markdown",
   "id": "91ddfd6b",
   "metadata": {},
   "source": [
    "## Exercise 3: Alter model, adding a dropout layer and a new dense layer\n",
    "\n",
    "Let's make a complex example, adding a new dense layer(s), a droput layer and asking for a compression factor of 4 times\n",
    "\n",
    "Dropout in this case help in reduce the number of neurons, in order to avoid the problem of \"sleeping neurons\" but it is really here as a placeholder, you could add a convolution layer for fun if you want"
   ]
  },
  {
   "cell_type": "code",
   "execution_count": 66,
   "id": "perceived-plenty",
   "metadata": {},
   "outputs": [
    {
     "name": "stdout",
     "output_type": "stream",
     "text": [
      "WARNING:tensorflow:5 out of the last 14 calls to <function Model.make_test_function.<locals>.test_function at 0x7ff02f2c6d08> triggered tf.function retracing. Tracing is expensive and the excessive number of tracings could be due to (1) creating @tf.function repeatedly in a loop, (2) passing tensors with different shapes, (3) passing Python objects instead of tensors. For (1), please define your @tf.function outside of the loop. For (2), @tf.function has experimental_relax_shapes=True option that relaxes argument shapes that can avoid unnecessary retracing. For (3), please refer to https://www.tensorflow.org/guide/function#controlling_retracing and https://www.tensorflow.org/api_docs/python/tf/function for  more details.\n",
      "WARNING:tensorflow:5 out of the last 11 calls to <function Model.make_test_function.<locals>.test_function at 0x7ff02cca9048> triggered tf.function retracing. Tracing is expensive and the excessive number of tracings could be due to (1) creating @tf.function repeatedly in a loop, (2) passing tensors with different shapes, (3) passing Python objects instead of tensors. For (1), please define your @tf.function outside of the loop. For (2), @tf.function has experimental_relax_shapes=True option that relaxes argument shapes that can avoid unnecessary retracing. For (3), please refer to https://www.tensorflow.org/guide/function#controlling_retracing and https://www.tensorflow.org/api_docs/python/tf/function for  more details.\n",
      "WARNING:tensorflow:5 out of the last 1004 calls to <function Model.make_train_function.<locals>.train_function at 0x7ff015c2d620> triggered tf.function retracing. Tracing is expensive and the excessive number of tracings could be due to (1) creating @tf.function repeatedly in a loop, (2) passing tensors with different shapes, (3) passing Python objects instead of tensors. For (1), please define your @tf.function outside of the loop. For (2), @tf.function has experimental_relax_shapes=True option that relaxes argument shapes that can avoid unnecessary retracing. For (3), please refer to https://www.tensorflow.org/guide/function#controlling_retracing and https://www.tensorflow.org/api_docs/python/tf/function for  more details.\n",
      "Best: -0.409439 using {'bias1': 1e-09, 'bias2': 1e-09, 'ker1': 1e-09, 'ker2': 1e-09}\n"
     ]
    }
   ],
   "source": [
    "n_features=49\n",
    "dropout=0.1\n",
    "\n",
    "# a very simple model, feedforward neural network with two layers and with two different activation functions\n",
    "def baseline_model3(bias1=1e-9, bias2=1e-9, ker1=1e-9, ker2=1e-9):\n",
    "  \n",
    "    model3 = Sequential()\n",
    "    \n",
    "    model3.add(Dense(n_features, activation='relu', input_shape=(n_features,), bias_regularizer=regularizers.l1_l2(l1=bias1, l2=bias2), kernel_regularizer=regularizers.l1_l2(l1=ker1, l2=ker2)))\n",
    "    model3.add(Dropout(dropout))\n",
    "    model3.add(Dense(int(n_features/2), activation='relu', bias_regularizer=regularizers.l1_l2(l1=bias1, l2=bias2), kernel_regularizer=regularizers.l1_l2(l1=ker1, l2=ker2)))\n",
    "    model3.add(Dropout(dropout))\n",
    "    model3.add(Dense(int(n_features/4), activation='relu', bias_regularizer=regularizers.l1_l2(l1=bias1, l2=bias2), kernel_regularizer=regularizers.l1_l2(l1=ker1, l2=ker2)))\n",
    "    model3.add(Dropout(dropout))\n",
    "\n",
    "    model3.add(Dense(int(n_features/4), activation='sigmoid', bias_regularizer=regularizers.l1_l2(l1=bias1, l2=bias2), kernel_regularizer=regularizers.l1_l2(l1=ker1, l2=ker2)))\n",
    "    model3.add(Dense(int(n_features/2), activation='sigmoid', bias_regularizer=regularizers.l1_l2(l1=bias1, l2=bias2), kernel_regularizer=regularizers.l1_l2(l1=ker1, l2=ker2)))\n",
    "    model3.add(Dense(n_features, activation='sigmoid', bias_regularizer=regularizers.l1_l2(l1=bias1, l2=bias2), kernel_regularizer=regularizers.l1_l2(l1=ker1, l2=ker2)))\n",
    "    \n",
    "    model3.compile(optimizer=Nadam(lr=5e-6), loss='mse', metrics=['mse'])\n",
    "\n",
    "    return model3\n",
    "\n",
    "\n",
    "mlp3 = KerasRegressor(build_fn=baseline_model3, epochs=1, batch_size=100, verbose=0)\n",
    "param_distr3 = dict(bias1 = [1e-9], bias2 = [1e-9], ker2 = [1e-9], ker1 = [1e-9])\n",
    "grid_search3 = GridSearchCV(estimator=mlp3, param_grid=param_distr3, cv=3)\n",
    "grid_search3.fit(chunks, chunks)\n",
    "print(\"Best: %f using %s\" % (grid_search3.best_score_, grid_search3.best_params_))\n",
    "means  = grid_search3.cv_results_['mean_test_score']\n",
    "stds   = grid_search3.cv_results_['std_test_score']\n",
    "params = grid_search3.cv_results_['params']"
   ]
  },
  {
   "cell_type": "markdown",
   "id": "third-giving",
   "metadata": {},
   "source": [
    "We altered number of neurons, is metric better or worse compare to other exercise? was expected?"
   ]
  },
  {
   "cell_type": "markdown",
   "id": "hydraulic-framing",
   "metadata": {},
   "source": [
    "## Exercise 4: Tune parameters\n",
    "\n",
    "**Add to param_distr both Batch size and Epochs, retrain and take best values**\n",
    "\n",
    "...same model as before...\n",
    "\n",
    "batch_size = [10, 20, 40, 60, 80, 100]\n",
    "\n",
    "epochs = [10, 50, 100]\n",
    "\n",
    "param_distr = dict(bias1 = [1e-9], bias2 = [1e-9], ker2 = [1e-9], ker1 = [1e-9], batch_size=batch_size, epochs=epochs )\n",
    "\n",
    "grid_search4 = GridSearchCV(estimator=mlp4, param_grid=param_distr4, cv=3)\n",
    "\n",
    "grid_result=grid_search4.fit(chunks, chunks)\n",
    "\n",
    "print(\"Best: %f using %s\" % (grid_result.best_score_, grid_result.best_params_))\n",
    "\n",
    "means = grid_result.cv_results_['mean_test_score']\n",
    "\n",
    "stds = grid_result.cv_results_['std_test_score']\n",
    "\n",
    "params = grid_result.cv_results_['params']\n",
    "\n",
    "for mean, stdev, param in zip(means, stds, params):\n",
    "\n",
    "    print(\"%f (%f) with: %r\" % (mean, stdev, param))\n",
    "\n",
    "**Same as before but optime optimizer**\n",
    "\n",
    "optimizer = ['SGD', 'RMSprop', 'Adagrad', 'Adadelta', 'Adam', 'Adamax', 'Nadam']\n",
    "\n",
    "param_grid = dict(optimizer=optimizer)\n",
    "\n",
    "**With this system you could optimize any hyperparameters...but it works only for local minimum point. No one can guarantee that a minimum for non optimal parameters exists!**\n",
    "\n",
    "https://machinelearningmastery.com/grid-search-hyperparameters-deep-learning-models-python-keras/"
   ]
  },
  {
   "cell_type": "markdown",
   "id": "c0138ac3",
   "metadata": {},
   "source": [
    "## Exercise 5: Plot output data and compare with input signal\n",
    "\n",
    "We already have an autoencoder. From the output of GridSearchCV we got best parameters. Now how we could encode-decode a signal and compare with the original one?\n",
    "\n",
    "GridSearchCV.predict(data) return an encoded-decoded signal, we could simply make a diff or plot original signal with autoencoded one"
   ]
  },
  {
   "cell_type": "code",
   "execution_count": 67,
   "id": "durable-trace",
   "metadata": {},
   "outputs": [
    {
     "name": "stdout",
     "output_type": "stream",
     "text": [
      "WARNING:tensorflow:10 out of the last 10 calls to <function Model.make_predict_function.<locals>.predict_function at 0x7ff02dda0ea0> triggered tf.function retracing. Tracing is expensive and the excessive number of tracings could be due to (1) creating @tf.function repeatedly in a loop, (2) passing tensors with different shapes, (3) passing Python objects instead of tensors. For (1), please define your @tf.function outside of the loop. For (2), @tf.function has experimental_relax_shapes=True option that relaxes argument shapes that can avoid unnecessary retracing. For (3), please refer to https://www.tensorflow.org/guide/function#controlling_retracing and https://www.tensorflow.org/api_docs/python/tf/function for  more details.\n"
     ]
    },
    {
     "data": {
      "text/plain": [
       "(100, 49)"
      ]
     },
     "execution_count": 67,
     "metadata": {},
     "output_type": "execute_result"
    }
   ],
   "source": [
    "grid_search2.predict(chunks).shape"
   ]
  },
  {
   "cell_type": "markdown",
   "id": "fixed-neutral",
   "metadata": {},
   "source": [
    "There are many ways to get the encoded signal, for example re-train the model, using as parameterets the ones found by GridSearchCV. In this case :\n",
    "\n",
    "Best: -0.280207 using **{'bias1': 1e-09, 'bias2': 1e-09, 'ker1': 1e-09, 'ker2': 1e-09}**"
   ]
  },
  {
   "cell_type": "code",
   "execution_count": 68,
   "id": "distant-exchange",
   "metadata": {},
   "outputs": [
    {
     "name": "stdout",
     "output_type": "stream",
     "text": [
      "Model: \"sequential_16\"\n",
      "_________________________________________________________________\n",
      "Layer (type)                 Output Shape              Param #   \n",
      "=================================================================\n",
      "dense_98 (Dense)             (None, 49)                2450      \n",
      "_________________________________________________________________\n",
      "dropout_12 (Dropout)         (None, 49)                0         \n",
      "_________________________________________________________________\n",
      "dense_99 (Dense)             (None, 24)                1200      \n",
      "_________________________________________________________________\n",
      "dropout_13 (Dropout)         (None, 24)                0         \n",
      "_________________________________________________________________\n",
      "dense_100 (Dense)            (None, 12)                300       \n",
      "_________________________________________________________________\n",
      "dropout_14 (Dropout)         (None, 12)                0         \n",
      "_________________________________________________________________\n",
      "dense_101 (Dense)            (None, 12)                156       \n",
      "_________________________________________________________________\n",
      "dense_102 (Dense)            (None, 24)                312       \n",
      "_________________________________________________________________\n",
      "dense_103 (Dense)            (None, 49)                1225      \n",
      "=================================================================\n",
      "Total params: 5,643\n",
      "Trainable params: 5,643\n",
      "Non-trainable params: 0\n",
      "_________________________________________________________________\n",
      "WARNING:tensorflow:6 out of the last 1005 calls to <function Model.make_train_function.<locals>.train_function at 0x7ff02dda07b8> triggered tf.function retracing. Tracing is expensive and the excessive number of tracings could be due to (1) creating @tf.function repeatedly in a loop, (2) passing tensors with different shapes, (3) passing Python objects instead of tensors. For (1), please define your @tf.function outside of the loop. For (2), @tf.function has experimental_relax_shapes=True option that relaxes argument shapes that can avoid unnecessary retracing. For (3), please refer to https://www.tensorflow.org/guide/function#controlling_retracing and https://www.tensorflow.org/api_docs/python/tf/function for  more details.\n",
      "4/4 [==============================] - 2s 3ms/step - loss: 0.3961 - mse: 0.3961\n"
     ]
    },
    {
     "data": {
      "text/plain": [
       "<tensorflow.python.keras.callbacks.History at 0x7feff852fa90>"
      ]
     },
     "execution_count": 68,
     "metadata": {},
     "output_type": "execute_result"
    }
   ],
   "source": [
    "# rebuid a model\n",
    "model=baseline_model3()\n",
    "model.summary()\n",
    "# fit it\n",
    "model.fit(chunks,chunks)"
   ]
  },
  {
   "cell_type": "code",
   "execution_count": 69,
   "id": "blind-leader",
   "metadata": {},
   "outputs": [
    {
     "name": "stdout",
     "output_type": "stream",
     "text": [
      "[[0.50027835 0.5008088  0.49881348 ... 0.49947625 0.49947038\n",
      "  0.49935132]\n",
      " [0.49713627 0.5086646  0.47665602 ... 0.48283726 0.4869941\n",
      "  0.48598856]\n",
      " [0.49816364 0.508421   0.52196133 ... 0.5260946  0.499206\n",
      "  0.48871538]\n",
      " ...\n",
      " [0.52836806 0.49106264 0.52160496 ... 0.48909587 0.49967724\n",
      "  0.5131934 ]\n",
      " [0.54386175 0.4920497  0.4241148  ... 0.4185172  0.42158687\n",
      "  0.47586966]\n",
      " [0.5112436  0.50119334 0.48734847 ... 0.4989936  0.48007503\n",
      "  0.505513  ]]\n"
     ]
    },
    {
     "data": {
      "text/plain": [
       "(100, 12)"
      ]
     },
     "execution_count": 69,
     "metadata": {},
     "output_type": "execute_result"
    }
   ],
   "source": [
    "# build a model of only encoding layers\n",
    "encoder = Sequential()\n",
    "\n",
    "for el in range(1,7):\n",
    "    encoder.add(model.layers[el])\n",
    "\n",
    "encoded = encoder.predict(chunks)\n",
    "print(encoded)\n",
    "encoded.shape"
   ]
  },
  {
   "cell_type": "markdown",
   "id": "adopted-facial",
   "metadata": {},
   "source": [
    "**Note**: Compression at work! 12 Features instead of 49\n",
    "\n",
    "You can access weight using\n",
    "\n",
    "**model.get_weights()[0]** to get all values\n",
    "\n",
    "**model.layers[0].get_weights()[0]** to get values of a single layer"
   ]
  },
  {
   "cell_type": "code",
   "execution_count": 70,
   "id": "republican-trash",
   "metadata": {},
   "outputs": [
    {
     "data": {
      "text/plain": [
       "array([[-0.07434461,  0.15799674,  0.17831041, ...,\n",
       "         0.10643525, -0.05176578, -0.04448853],\n",
       "       [ 0.21515155, -0.19132064,  0.19696204, ...,\n",
       "        -0.11651478,  0.23448658,  0.10841457],\n",
       "       [-0.24633463, -0.13811564,  0.04194748, ...,\n",
       "         0.23156133,  0.23773183, -0.19312665],\n",
       "       ...,\n",
       "       [ 0.09571114, -0.22297634, -0.03623276, ...,\n",
       "        -0.05248073, -0.23457696,  0.00698916],\n",
       "       [-0.24739493, -0.18546797, -0.07822338, ...,\n",
       "        -0.00938146, -0.21247737,  0.11001907],\n",
       "       [-0.08429172,  0.21872604, -0.18452057, ...,\n",
       "        -0.24709727,  0.14700556,  0.1751326 ]], dtype=float32)"
      ]
     },
     "execution_count": 70,
     "metadata": {},
     "output_type": "execute_result"
    }
   ],
   "source": [
    "# for example\n",
    "model.get_weights()[0] \n",
    "model.layers[0].get_weights()[0]"
   ]
  },
  {
   "cell_type": "markdown",
   "id": "particular-briefing",
   "metadata": {},
   "source": [
    "**We took only 4900 elems ... restart with a larger database, and use remain elems as test, so just try predict them and see how differ**"
   ]
  },
  {
   "cell_type": "markdown",
   "id": "d56e0b3b",
   "metadata": {},
   "source": [
    "## Exercise 6: Save output files and compute their size and their entropy"
   ]
  },
  {
   "cell_type": "code",
   "execution_count": 72,
   "id": "1443ad67",
   "metadata": {},
   "outputs": [],
   "source": [
    "# to save our model\n",
    "model.save(\"test.h5\")\n",
    "# to save our encoded file\n",
    "# don't forget to delete our useness item before saving to disk\n",
    "dm.write_gwdama('outputfile')"
   ]
  },
  {
   "cell_type": "code",
   "execution_count": null,
   "id": "3acfd383",
   "metadata": {},
   "outputs": [],
   "source": []
  }
 ],
 "metadata": {
  "celltoolbar": "Edit Metadata",
  "kernelspec": {
   "display_name": "Python 3",
   "language": "python",
   "name": "python3"
  },
  "language_info": {
   "codemirror_mode": {
    "name": "ipython",
    "version": 3
   },
   "file_extension": ".py",
   "mimetype": "text/x-python",
   "name": "python",
   "nbconvert_exporter": "python",
   "pygments_lexer": "ipython3",
   "version": "3.6.9"
  }
 },
 "nbformat": 4,
 "nbformat_minor": 5
}
